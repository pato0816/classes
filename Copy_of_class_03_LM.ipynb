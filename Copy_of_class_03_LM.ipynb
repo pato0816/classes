{
  "nbformat": 4,
  "nbformat_minor": 0,
  "metadata": {
    "colab": {
      "name": "Copy of class 03_LM.ipynb",
      "provenance": [],
      "collapsed_sections": [],
      "authorship_tag": "ABX9TyOIl35oMmfiA5bKfU1BwMf6",
      "include_colab_link": true
    },
    "kernelspec": {
      "name": "python3",
      "display_name": "Python 3"
    }
  },
  "cells": [
    {
      "cell_type": "markdown",
      "metadata": {
        "id": "view-in-github",
        "colab_type": "text"
      },
      "source": [
        "<a href=\"https://colab.research.google.com/github/pato0816/classes/blob/master/Copy_of_class_03_LM.ipynb\" target=\"_parent\"><img src=\"https://colab.research.google.com/assets/colab-badge.svg\" alt=\"Open In Colab\"/></a>"
      ]
    },
    {
      "cell_type": "code",
      "metadata": {
        "id": "gS05uNZX9Ac2"
      },
      "source": [
        "x = 10"
      ],
      "execution_count": null,
      "outputs": []
    },
    {
      "cell_type": "code",
      "metadata": {
        "colab": {
          "base_uri": "https://localhost:8080/"
        },
        "id": "yLnF_VNC9EoA",
        "outputId": "4f221eee-5659-4660-af02-4580da037ded"
      },
      "source": [
        "print (x)"
      ],
      "execution_count": null,
      "outputs": [
        {
          "output_type": "stream",
          "text": [
            "10\n"
          ],
          "name": "stdout"
        }
      ]
    },
    {
      "cell_type": "code",
      "metadata": {
        "id": "RbdcFVkZPCa0"
      },
      "source": [
        "#define a list\r\n",
        "x = [2,4,6,8,9,-1,0]"
      ],
      "execution_count": null,
      "outputs": []
    },
    {
      "cell_type": "code",
      "metadata": {
        "colab": {
          "base_uri": "https://localhost:8080/"
        },
        "id": "axZioWMbPGbC",
        "outputId": "577a775e-b951-4bdd-e4f3-eebf8ecc18bf"
      },
      "source": [
        "print(x)"
      ],
      "execution_count": null,
      "outputs": [
        {
          "output_type": "stream",
          "text": [
            "[2, 4, 6, 8, 9, -1, 0]\n"
          ],
          "name": "stdout"
        }
      ]
    },
    {
      "cell_type": "code",
      "metadata": {
        "colab": {
          "base_uri": "https://localhost:8080/"
        },
        "id": "wxiUZcNXPIDK",
        "outputId": "f38194d4-493f-4d0e-c35a-252fb38acf8c"
      },
      "source": [
        "#declare a variable\r\n",
        "a_var = 35\r\n",
        "#do something to it\r\n",
        "a_var +=100\r\n",
        "\r\n",
        "#you can also jusy finish the cell with that variable so that it prints the variable as an output\r\n",
        "a_var"
      ],
      "execution_count": null,
      "outputs": [
        {
          "output_type": "execute_result",
          "data": {
            "text/plain": [
              "135"
            ]
          },
          "metadata": {
            "tags": []
          },
          "execution_count": 13
        }
      ]
    },
    {
      "cell_type": "code",
      "metadata": {
        "id": "nwMo_JNtPiy5"
      },
      "source": [
        "#define a list an query it\r\n",
        "robots = ['Kuka', 'ABB', 'Universal']"
      ],
      "execution_count": null,
      "outputs": []
    },
    {
      "cell_type": "code",
      "metadata": {
        "colab": {
          "base_uri": "https://localhost:8080/"
        },
        "id": "B1nn8M97P1IR",
        "outputId": "33dcc30e-9342-4dd0-a7b1-04ce4ece4f4b"
      },
      "source": [
        "robots.index(\"Universal\")"
      ],
      "execution_count": null,
      "outputs": [
        {
          "output_type": "execute_result",
          "data": {
            "text/plain": [
              "2"
            ]
          },
          "metadata": {
            "tags": []
          },
          "execution_count": 16
        }
      ]
    },
    {
      "cell_type": "code",
      "metadata": {
        "colab": {
          "base_uri": "https://localhost:8080/"
        },
        "id": "eYF2xS0mP07C",
        "outputId": "0ef368a8-898d-4f01-9825-f2e8ad317728"
      },
      "source": [
        "'yaskawa' in robots"
      ],
      "execution_count": null,
      "outputs": [
        {
          "output_type": "execute_result",
          "data": {
            "text/plain": [
              "False"
            ]
          },
          "metadata": {
            "tags": []
          },
          "execution_count": 17
        }
      ]
    },
    {
      "cell_type": "code",
      "metadata": {
        "colab": {
          "base_uri": "https://localhost:8080/"
        },
        "id": "hvNOVWKJSFj7",
        "outputId": "41cc3b89-a63a-4fb1-c4b4-043b8034c12b"
      },
      "source": [
        "'Universal' in robots"
      ],
      "execution_count": null,
      "outputs": [
        {
          "output_type": "execute_result",
          "data": {
            "text/plain": [
              "True"
            ]
          },
          "metadata": {
            "tags": []
          },
          "execution_count": 18
        }
      ]
    },
    {
      "cell_type": "code",
      "metadata": {
        "id": "IglSgEai9O9D"
      },
      "source": [
        "#lets for example define a function to add 2 numbers\r\n",
        "def add(a,b):\r\n",
        "  return a +b"
      ],
      "execution_count": null,
      "outputs": []
    },
    {
      "cell_type": "code",
      "metadata": {
        "colab": {
          "base_uri": "https://localhost:8080/"
        },
        "id": "evBYsGsT9WZ0",
        "outputId": "27fa1948-befd-48f6-d3e7-f99327ec4a4f"
      },
      "source": [
        "add(5,10)"
      ],
      "execution_count": null,
      "outputs": [
        {
          "output_type": "execute_result",
          "data": {
            "text/plain": [
              "15"
            ]
          },
          "metadata": {
            "tags": []
          },
          "execution_count": 5
        }
      ]
    },
    {
      "cell_type": "code",
      "metadata": {
        "colab": {
          "base_uri": "https://localhost:8080/"
        },
        "id": "21qYiUqF9fAM",
        "outputId": "949f190d-0cea-45bc-fd37-f11b72ddca53"
      },
      "source": [
        "#import libraries to do things\r\n",
        "import matplotlib.pyplot as plt\r\n",
        "import math\r\n",
        "\r\n",
        "z = math.cos(1)\r\n",
        "print (z)"
      ],
      "execution_count": null,
      "outputs": [
        {
          "output_type": "stream",
          "text": [
            "0.5403023058681398\n"
          ],
          "name": "stdout"
        }
      ]
    },
    {
      "cell_type": "code",
      "metadata": {
        "id": "lszuihwP-oYm"
      },
      "source": [
        "X = [2,4,7,8,9,0]"
      ],
      "execution_count": null,
      "outputs": []
    },
    {
      "cell_type": "code",
      "metadata": {
        "id": "NeHhAWfU-KAK"
      },
      "source": [
        "x = [0.1*x for x in range (-50,50)]\r\n",
        "y = [math.sin(x) for x in (X)]"
      ],
      "execution_count": null,
      "outputs": []
    },
    {
      "cell_type": "code",
      "metadata": {
        "colab": {
          "base_uri": "https://localhost:8080/",
          "height": 422
        },
        "id": "8Xn7sEEj-3mz",
        "outputId": "3371db0a-75aa-45c8-c7ad-b495e62fb6c1"
      },
      "source": [
        "plt.figure(figsize=(6,6))\r\n",
        "plt.plot(X,y)\r\n",
        "plt.xlabel('x')\r\n",
        "plt.ylabel('y - sin (x)')\r\n",
        "plt.title('something cool')"
      ],
      "execution_count": null,
      "outputs": [
        {
          "output_type": "execute_result",
          "data": {
            "text/plain": [
              "Text(0.5, 1.0, 'something cool')"
            ]
          },
          "metadata": {
            "tags": []
          },
          "execution_count": 10
        },
        {
          "output_type": "display_data",
          "data": {
            "image/png": "[encoded data removed]",
            "text/plain": [
              "<Figure size 432x432 with 1 Axes>"
            ]
          },
          "metadata": {
            "tags": [],
            "needs_background": "light"
          }
        }
      ]
    },
    {
      "cell_type": "code",
      "metadata": {
        "id": "D9RT0JC7_jaL"
      },
      "source": [
        ""
      ],
      "execution_count": null,
      "outputs": []
    }
  ]
}